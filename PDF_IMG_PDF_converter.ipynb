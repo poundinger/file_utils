{
  "nbformat": 4,
  "nbformat_minor": 0,
  "metadata": {
    "colab": {
      "name": "PDF-IMG-PDF_converter.ipynb",
      "provenance": [],
      "collapsed_sections": [],
      "authorship_tag": "ABX9TyOSVUYEK9EWEvw+hjTQoQUG"
    },
    "kernelspec": {
      "name": "python3",
      "display_name": "Python 3"
    }
  },
  "cells": [
    {
      "cell_type": "markdown",
      "metadata": {
        "id": "2xQTmSWEiPOF"
      },
      "source": [
        "**PDF TO IMAGE TO PDF CONVERTER**"
      ]
    },
    {
      "cell_type": "markdown",
      "metadata": {
        "id": "-GvAENDtiK4v"
      },
      "source": [
        "Install modules"
      ]
    },
    {
      "cell_type": "code",
      "metadata": {
        "id": "sCexIhqE6j_V"
      },
      "source": [
        "!pip install pdf2image\n",
        "!pip install wand\n",
        "!pip install fpdf\n",
        "!pip install img2pdf\n",
        "!pip install PyPDF2\n",
        "!apt-get install PIL\n",
        "!apt-get install poppler-utils\n",
        "!apt-get install libmagickwand-dev\n",
        "from google.colab import drive\n",
        "drive.mount('/content/drive')"
      ],
      "execution_count": null,
      "outputs": []
    },
    {
      "cell_type": "markdown",
      "metadata": {
        "id": "8uh1l45LiqQe"
      },
      "source": [
        "Create paths + Mount google drive"
      ]
    },
    {
      "cell_type": "code",
      "metadata": {
        "id": "NMHF8Ix-7uZk"
      },
      "source": [
        "import os\n",
        "\n",
        "# Mount Google drive\n",
        "path = '/content/drive/Targetfolder/'\n",
        "imgpath = path + 'image/'\n",
        "pdfpath = path + 'pdf/'\n",
        "gradedpath = path + 'graded/'\n",
        "\n",
        "if not os.path.exists(imgpath):\n",
        "    os.makedirs(imgpath)\n",
        "if not os.path.exists(pdfpath):\n",
        "    os.makedirs(pdfpath)\n",
        "if not os.path.exists(gradedpath):\n",
        "    os.makedirs(gradedpath)\n",
        "\n",
        "files = os.listdir(path)\n",
        "for i in files:\n",
        "  print(i)"
      ],
      "execution_count": null,
      "outputs": []
    },
    {
      "cell_type": "markdown",
      "metadata": {
        "id": "yC6-Rnx7j67p"
      },
      "source": [
        "PDF to IMAGE converter"
      ]
    },
    {
      "cell_type": "code",
      "metadata": {
        "id": "eZqLPihGnL5X"
      },
      "source": [
        "from pdf2image import convert_from_path\n",
        "from PIL import Image\n",
        "\n",
        "for filename in os.listdir(path):\n",
        "    basename, extension = os.path.splitext(filename)\n",
        "    outfilename = imgpath+filename.split(\"_\")[0]\n",
        "    print(basename, extension)\n",
        "    if extension == '.pdf': \n",
        "      # print(extension, basename)\n",
        "      dpi = 500 # dots per inch\n",
        "      pdf_file = path + filename\n",
        "      pages = convert_from_path(pdf_file ,dpi )\n",
        "      for i in range(len(pages)):\n",
        "        page = pages[i]\n",
        "        page.save(outfilename+'_{}.jpeg'.format(i), 'JPEG')\n",
        "    elif extension in ['.jpg','.png','.jpeg'] :\n",
        "      image = Image.open(path + filename)\n",
        "#             image.alpha_channel = 'remove'\n",
        "      image.save(imgpath + basename + '.jpeg')\n",
        "      image.close()\n",
        "    else:\n",
        "      continue"
      ],
      "execution_count": null,
      "outputs": []
    },
    {
      "cell_type": "markdown",
      "metadata": {
        "id": "TaPjFXJUkBu4"
      },
      "source": [
        "Create PDF file from each image"
      ]
    },
    {
      "cell_type": "code",
      "metadata": {
        "id": "WXMa1IdUDmwJ"
      },
      "source": [
        "import fpdf \n",
        "import img2pdf           \n",
        "            \n",
        "for filename in os.listdir(imgpath):\n",
        "    basename, extension = os.path.splitext(filename)\n",
        "    pdf_path = pdfpath + basename + '.pdf' # new pdf path       \n",
        "    if not os.path.exists(pdf_path):\n",
        "        image = Image.open(imgpath + filename) # opening image \n",
        "        # print(filename)\n",
        "        pdf_bytes = img2pdf.convert(image.filename) # converting into chunks using img2pdf \n",
        "        file = open(pdf_path, \"wb\") # opening or creating pdf file\n",
        "        file.write(pdf_bytes) # writing pdf files with chunks\n",
        "        image.close() # closing image file \n",
        "        file.close() # closing pdf file"
      ],
      "execution_count": null,
      "outputs": []
    },
    {
      "cell_type": "markdown",
      "metadata": {
        "id": "HQZFvuYa-L6l"
      },
      "source": [
        "Merge PDF file using student ID"
      ]
    },
    {
      "cell_type": "code",
      "metadata": {
        "id": "aqlEJ7q2p9fh"
      },
      "source": [
        "from os import listdir\n",
        "from os.path import isfile, join\n",
        "from collections import defaultdict\n",
        "import difflib\n",
        "\n",
        "# Group files with same student ID (first 9 characters)\n",
        "onlyfiles = [f for f in listdir(pdfpath)]\n",
        "# print(\"\\n\".join(onlyfiles))\n",
        "\n",
        "groups = defaultdict(list)\n",
        "for filename in os.listdir(pdfpath):\n",
        "    basename, extension = os.path.splitext(filename)\n",
        "    if extension == '.pdf':\n",
        "        groups[filename[:9]].append(filename)\n",
        "        \n",
        "# Merge pdf files or copy one file to new folder  \n",
        "from fpdf import FPDF     \n",
        "import PyPDF2\n",
        "import shutil\n",
        "\n",
        "for key, filename in groups.items():  \n",
        "    # print(key,filename)\n",
        "    \n",
        "    outfilename = gradedpath+filename[0].split(\"_\")[0]+_Graded.pdf'\n",
        "    if not os.path.exists(outfilename):\n",
        "        # print(len(filename))\n",
        "        if len(filename)>1:\n",
        "            pdfWriter = PyPDF2.PdfFileWriter()\n",
        "            for file in filename:                            \n",
        "                # print(file)       \n",
        "                pdfFileObj = open(pdfpath+file,'rb') #rb for read binary\n",
        "                pdfReader = PyPDF2.PdfFileReader(pdfFileObj)\n",
        "                #Opening each page of the PDF\n",
        "                for pageNum in range(pdfReader.numPages):\n",
        "                    pageObj = pdfReader.getPage(pageNum)\n",
        "                    pdfWriter.addPage(pageObj)        \n",
        "            pdfOutput = open(outfilename, 'wb') #save PDF to file, wb for write binary\n",
        "            pdfWriter.write(pdfOutput) #Outputting the PDF        \n",
        "            pdfOutput.close() #Closing the PDF writer\n",
        "        else:\n",
        "            shutil.copy(pdfpath+filename[0], outfilename)    "
      ],
      "execution_count": null,
      "outputs": []
    }
  ]
}