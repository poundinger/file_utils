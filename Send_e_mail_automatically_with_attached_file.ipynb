{
  "nbformat": 4,
  "nbformat_minor": 0,
  "metadata": {
    "colab": {
      "name": " Send e-mail automatically with attached file.ipynb",
      "provenance": [],
      "collapsed_sections": [],
      "authorship_tag": "ABX9TyMpoJcI84+9UAwiaJwncOCe"
    },
    "kernelspec": {
      "name": "python3",
      "display_name": "Python 3"
    }
  },
  "cells": [
    {
      "cell_type": "markdown",
      "metadata": {
        "id": "8HLUdACKvxsF"
      },
      "source": [
        "Send e-mail automatically with attached file"
      ]
    },
    {
      "cell_type": "code",
      "metadata": {
        "id": "ZV667P0Nv0iu"
      },
      "source": [
        "!apt-get install smtplib\n",
        "!pip install ssl\n",
        "!pip install getpass"
      ],
      "execution_count": null,
      "outputs": []
    },
    {
      "cell_type": "markdown",
      "metadata": {
        "id": "mzxpPd4nbjwm"
      },
      "source": [
        "Option 1: Use a definition "
      ]
    },
    {
      "cell_type": "code",
      "metadata": {
        "id": "to3VAQOOWa4E"
      },
      "source": [
        "import smtplib, ssl\n",
        "import getpass\n",
        "from email.mime.multipart import MIMEMultipart \n",
        "from email.mime.text import MIMEText \n",
        "from email.mime.base import MIMEBase \n",
        "from email import encoders \n",
        "\n",
        "# Modify from https://stackoverflow.com/questions/20831788/email-attachment-received-as-noname\n",
        "\n",
        "def send_email_cmu(from_addr, to_addr_list,\n",
        "              subject, html_body,plain_text_body,\n",
        "              login,\n",
        "              password,\n",
        "              smtpserver = 'smtp.office365.com:587',\n",
        "              cc_addr_list=None,\n",
        "              attachment=[],\n",
        "              from_name=None):\n",
        "\n",
        "    message=MIMEMultipart()\n",
        "\n",
        "    plain=MIMEText(plain_text_body,'plain')\n",
        "    html=MIMEText(html_body,'html') \n",
        "\n",
        "    message.add_header('from',from_name)\n",
        "    message.add_header('to',','.join(to_addr_list))\n",
        "    message.add_header('subject',subject)\n",
        "\n",
        "    for f in attachment:\n",
        "      with open(f, 'rb') as a_file:\n",
        "          basename = os.path.basename(f)\n",
        "          part = MIMEApplication(a_file.read(), Name=basename)\n",
        "          print(basename)\n",
        "          part.add_header('Content-Disposition','attachment; filename=\"%s\"' % basename) # Add header to variable with attachment file\n",
        "          message.attach(part) # Attach to message attachment file\n",
        "\n",
        "    message.attach(plain)\n",
        "    message.attach(html)\n",
        "\n",
        "    server = smtplib.SMTP(smtpserver)\n",
        "    server.starttls()\n",
        "    server.login(login,password)\n",
        "    server.sendmail(from_addr, to_addr_list, message.as_string())\n",
        "    server.quit()\n",
        "\n",
        "def send_email_gmail(from_addr, to_addr_list,\n",
        "              subject, html_body,plain_text_body,\n",
        "              login,\n",
        "              password,\n",
        "              smtpserver='smtp.gmail.com:587',\n",
        "              cc_addr_list=None,\n",
        "              attachment=[],\n",
        "              from_name=None):\n",
        "\n",
        "    message=MIMEMultipart()\n",
        "\n",
        "    plain=MIMEText(plain_text_body,'plain')\n",
        "    html=MIMEText(html_body,'html') \n",
        "\n",
        "    message.add_header('from',from_name)\n",
        "    message.add_header('to',','.join(to_addr_list))\n",
        "    message.add_header('subject',subject)\n",
        "\n",
        "    for f in attachment:\n",
        "      with open(f, 'rb') as a_file:\n",
        "          basename = os.path.basename(f)\n",
        "          part = MIMEApplication(a_file.read(), Name=basename)\n",
        "          print(basename)\n",
        "          part.add_header('Content-Disposition','attachment; filename=\"%s\"' % basename) # Add header to variable with attachment file\n",
        "          message.attach(part) # Attach to message attachment file\n",
        "\n",
        "    message.attach(plain)\n",
        "    message.attach(html)\n",
        "\n",
        "    server = smtplib.SMTP(smtpserver)\n",
        "    server.starttls()\n",
        "    server.login(login,password)\n",
        "    server.sendmail(from_addr, to_addr_list, message.as_string())\n",
        "    server.quit()\n",
        "\n",
        "\n",
        "# Example: cmu email\n",
        "send_email_cmu(\n",
        "           from_addr='sender_email@cmu.ac.th',\n",
        "           to_addr_list=['receiver_email'],\n",
        "           subject= 'Subject',\n",
        "           html_body='',\n",
        "           plain_text_body='Body',\n",
        "           login='sender_email@cmu.ac.th',\n",
        "           password=getpass.getpass(),\n",
        "           from_name='sender_name',\n",
        "           attachment= [path + filename]\n",
        "           )\n",
        "\n",
        "# Example: gmail email\n",
        "send_email_cmu(\n",
        "           from_addr='sender_email@gmail.com',\n",
        "           to_addr_list=['receiver_email'],\n",
        "           subject= 'Subject',\n",
        "           html_body='',\n",
        "           plain_text_body='Body',\n",
        "           login='sender_email@gmail.com',\n",
        "           password=getpass.getpass(),\n",
        "           from_name='sender_name',\n",
        "           attachment= [path + filename]\n",
        "           )"
      ],
      "execution_count": null,
      "outputs": []
    },
    {
      "cell_type": "markdown",
      "metadata": {
        "id": "QfgfAdjFcRVh"
      },
      "source": [
        "Option 2: Real code"
      ]
    },
    {
      "cell_type": "code",
      "metadata": {
        "id": "APrPI9Skcd_E"
      },
      "source": [
        "!apt-get install smtplib\n",
        "!pip install ssl\n",
        "!pip install getpass"
      ],
      "execution_count": null,
      "outputs": []
    },
    {
      "cell_type": "code",
      "metadata": {
        "id": "Z4XaRDG3cd_H"
      },
      "source": [
        "import smtplib, ssl\n",
        "import getpass\n",
        "from email.mime.multipart import MIMEMultipart \n",
        "from email.mime.text import MIMEText \n",
        "from email.mime.base import MIMEBase \n",
        "from email import encoders \n",
        "from email.mime.application import MIMEApplication\n",
        "\n",
        "smtp_server = \"smtp.gmail.com\"\n",
        "port = 587  # For starttls\n",
        "sender_email = 'sender_email'\n",
        "print(\"Type your password and press enter:\")\n",
        "password = getpass.getpass()\n",
        "\n",
        "# for i in range(len(df)):\n",
        "for i in range(2):\n",
        "\n",
        "  tolist =  ['receiver1_email', 'receiver2_email']\n",
        "\n",
        "  # Create a secure SSL context\n",
        "  context = ssl.create_default_context()\n",
        "\n",
        "  # -------------\n",
        "  msg = MIMEMultipart() # instance of MIMEMultipart \n",
        "  msg['From'] = sender_email # storing the senders email address   \n",
        "  msg['Subject'] = 'Subject' # storing the subject \n",
        "\n",
        "  text_subtype = 'plain' # typical values for text_subtype are plain, html, xml\n",
        "  content= 'content'\n",
        "\n",
        "  msg.attach(MIMEText(content, text_subtype)) # attach the body with the msg instance \n",
        "\n",
        "  attachment = [path + filename]\n",
        "  for f in attachment:\n",
        "      with open(f, 'rb') as a_file:\n",
        "          basename = os.path.basename(f)\n",
        "          part = MIMEApplication(a_file.read(), Name=basename)\n",
        "          print(basename)\n",
        "          part.add_header('Content-Disposition','attachment; filename=\"%s\"' % basename) # Add header to variable with attachment file\n",
        "          msg.attach(part) # Attach to message attachment file\n",
        "  # -------------\n",
        "\n",
        "  # Try to log in to server and send email\n",
        "  try:\n",
        "      server = smtplib.SMTP(smtp_server,port)\n",
        "      server.ehlo() # Can be omitted\n",
        "      server.starttls(context=context) # Secure the connection\n",
        "      server.ehlo() # Can be omitted\n",
        "      server.login(sender_email, password)\n",
        "      # TODO: Send email here\n",
        "      # msg = 'Test.'\n",
        "      server.sendmail(sender_email, tolist, msg.as_string())\n",
        "  except Exception as e:\n",
        "      # Print any error messages to stdout\n",
        "      print('Error')\n",
        "      print(e)\n",
        "  finally:\n",
        "      server.quit() "
      ],
      "execution_count": null,
      "outputs": []
    }
  ]
}